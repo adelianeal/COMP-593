{
  "nbformat": 4,
  "nbformat_minor": 0,
  "metadata": {
    "colab": {
      "name": "WEEK 3 WORKING WITH DATABASES",
      "provenance": [],
      "include_colab_link": true
    },
    "kernelspec": {
      "display_name": "Python 3",
      "name": "python3"
    }
  },
  "cells": [
    {
      "cell_type": "markdown",
      "metadata": {
        "id": "view-in-github",
        "colab_type": "text"
      },
      "source": [
        "<a href=\"https://colab.research.google.com/github/adelianeal/COMP-593/blob/main/WEEK_3_WORKING_WITH_DATABASES.ipynb\" target=\"_parent\"><img src=\"https://colab.research.google.com/assets/colab-badge.svg\" alt=\"Open In Colab\"/></a>"
      ]
    },
    {
      "cell_type": "markdown",
      "metadata": {
        "id": "ATrLBWinTKCJ"
      },
      "source": [
        "# LAB 3: WORKING WITH DATABASES\n"
      ]
    },
    {
      "cell_type": "markdown",
      "metadata": {
        "id": "bH4FqkVLTWRU"
      },
      "source": [
        "## Introduction\n",
        "\n",
        "During this lab, we will experiment with using a few different libararies and modules to connect to and interact with an SQLite database. After creating and configuring our testing database, we will populate it with Fake data and run some queries to see what kind of information we can retreive. For context, we will be creating RSSN, the \"Really Simple Social Network\"."
      ]
    },
    {
      "cell_type": "markdown",
      "metadata": {
        "id": "YtugCh8QUPoi"
      },
      "source": [
        "## Creating a SQLite Database\n",
        "\n",
        "We will be utilizing the `sqlite3` library to create our database file, as it offers the convienience of creating our database file automatically in the event that it cannot find an existing file at the path specified.\n",
        "\n",
        "**Before you run the below code:**\n",
        "On the left of the notebook, select the file folder icon. Then, after you run the code block, you should be able to observe the creation of the database file. If it doesn't appear, try clicking the \"Refresh\" button above the list of folders."
      ]
    },
    {
      "cell_type": "code",
      "metadata": {
        "id": "pzyTkI5PPjib",
        "outputId": "aa559500-b007-4fbe-f0b2-102818986cb0",
        "colab": {
          "base_uri": "https://localhost:8080/"
        }
      },
      "source": [
        "import sqlite3\n",
        "\n",
        "#When we retreive a Connection object, a new database will be created for us if it doesn't already exist. \n",
        "myConnection = sqlite3.connect('social_network.db')\n",
        "print(sqlite3.version)"
      ],
      "execution_count": null,
      "outputs": [
        {
          "output_type": "stream",
          "name": "stdout",
          "text": [
            "2.6.0\n"
          ]
        }
      ]
    },
    {
      "cell_type": "markdown",
      "metadata": {
        "id": "gRxXXt8iVmAp"
      },
      "source": [
        "## Creating a Table\n"
      ]
    },
    {
      "cell_type": "markdown",
      "metadata": {
        "id": "plmEQRdNaDMe"
      },
      "source": [
        "We'll use the below code to create a table called `people` within our database. "
      ]
    },
    {
      "cell_type": "code",
      "metadata": {
        "colab": {
          "base_uri": "https://localhost:8080/"
        },
        "id": "uyjSS3cQVwFa",
        "outputId": "9cbd898c-3c05-4231-dba1-d71e2d211a38"
      },
      "source": [
        "import sqlite3\n",
        "\n",
        "#Retreive the Connection object\n",
        "myConnection = sqlite3.connect('social_network.db')\n",
        "\n",
        "#Once we have a Connection object, we can generate a Cursor object, and use that to run our SQL Queries\n",
        "myCursor = myConnection.cursor()\n",
        "\n",
        "#Let's define the SQL Query we will use to create our first table:\n",
        "createPeopleTable = \"\"\" CREATE TABLE IF NOT EXISTS people (\n",
        "                          id integer PRIMARY KEY,\n",
        "                          name text NOT NULL,\n",
        "                          email text NOT NULL,\n",
        "                          address text NOT NULL,\n",
        "                          city text NOT NULL,\n",
        "                          province text NOT NULL,\n",
        "                          country text NOT NULL,\n",
        "                          phone text,\n",
        "                          bio text,\n",
        "                          dob date NOT NULL,\n",
        "                          heatmap integer,\n",
        "                          created_at datetime NOT NULL,\n",
        "                          updated_at datetime NOT NULL,\n",
        "                          ipv4 text\n",
        "                        );\"\"\"\n",
        "\n",
        "#Now that we have the string to create our table,\n",
        "#Cursor objects have an execute() method which will accept an SQL string and perform the operations described.\n",
        "\n",
        "myCursor.execute(createPeopleTable)\n",
        "\n",
        "#We can confirm if our table was created successfully by running the following SQL Query\n",
        "#pragma_table_info is an internal SQLite function that will retun information about a table\n",
        "myCursor.execute(\"SELECT group_concat(name, ', ') FROM pragma_table_info('people')\")\n",
        "print(myCursor.fetchone())\n",
        "\n",
        "#We use to the commit() method on the database Connection object to persist our changes\n",
        "myConnection.commit()\n",
        "\n",
        "#It is always a good idea to close a connection when it will no longer be used\n",
        "myConnection.close()\n"
      ],
      "execution_count": 6,
      "outputs": [
        {
          "output_type": "stream",
          "name": "stdout",
          "text": [
            "('id, name, email, address, city, province, country, phone, bio, dob, heatmap, created_at, updated_at, ipv4',)\n"
          ]
        }
      ]
    },
    {
      "cell_type": "markdown",
      "metadata": {
        "id": "5swGTtjga2qo"
      },
      "source": [
        "\n",
        "If you received a tuple containing the names of the columns, awesome! We have successfully created our database table.\n",
        "```\n",
        "('id, name, email, address, city, province, country, phone, bio, created_at, updated_at',)\n",
        "```\n",
        "\n",
        "Run the below code block to add our first entry."
      ]
    },
    {
      "cell_type": "code",
      "metadata": {
        "id": "ZSPqve9na7b8"
      },
      "source": [
        "import sqlite3\n",
        "from pprint import pprint #Outputs data in a slightly easier to read format\n",
        "from datetime import datetime #For generating dates and times\n",
        "\n",
        "#Retreive the Connection object\n",
        "myConnection = sqlite3.connect('social_network.db')\n",
        "\n",
        "#Once we have a Connection object, we can generate a Cursor object, and use that to run our SQL Queries\n",
        "myCursor = myConnection.cursor()\n",
        "\n",
        "#Let's define the SQL Query we will use to create our first entry:\n",
        "addPersonQuery = \"\"\"INSERT INTO people (name, \n",
        "                      email, \n",
        "                      address, \n",
        "                      city, \n",
        "                      province, \n",
        "                      country, \n",
        "                      phone, \n",
        "                      bio,\n",
        "                      dob,\n",
        "                      heatmap,\n",
        "                      created_at, \n",
        "                      updated_at, \n",
        "                      ipv4)\n",
        "                  VALUES (?, ?, ?, ?, ?, ?, ?, ?, ?, ?, ?, ?);\"\"\"\n",
        "\n",
        "\"\"\"\n",
        "The ?'s are placeholders that we can fill in when we use the execute() method.\n",
        "This is really handy for code reuse, as we can pass those values are variables in a tuple\n",
        "Instead of hard coding them into the statement.\n",
        "\"\"\"\n",
        "\n",
        "myPerson = (\"John Doe\", \n",
        "            \"johndoe@anon.null\", \n",
        "            \"123 Fake St.\", \n",
        "            \"Fakesville\", \n",
        "            \"Fakesdom\", \n",
        "            \"Fakopolis\", \n",
        "            None, \n",
        "            None,\n",
        "            \"1967-09-12\",\n",
        "            0,\n",
        "            datetime.now(), \n",
        "            datetime.now(),\n",
        "            None)\n",
        "\n",
        "myCursor.execute(addPersonQuery, myPerson)\n",
        "\n",
        "#We can confirm if our table was created successfully by running the following SQL Query\n",
        "#pragma_table_info is an internal SQLite function that will retun information about a table\n",
        "myCursor.execute(\"SELECT * FROM people\")\n",
        "pprint(myCursor.fetchall())\n",
        "\n",
        "# If you run this code block a few times, you will see that you only have 1 entry,\n",
        "# If you uncomment the below lines and run the block a few more times, you will begin to see multiple entries.\n",
        "# myConnection.commit()\n",
        "# myConnection.close()"
      ],
      "execution_count": null,
      "outputs": []
    },
    {
      "cell_type": "code",
      "metadata": {
        "id": "blL9pzRCgrMP"
      },
      "source": [
        ""
      ],
      "execution_count": null,
      "outputs": []
    },
    {
      "cell_type": "markdown",
      "metadata": {
        "id": "BTZ00Zscgrus"
      },
      "source": [
        "# Lab Submission"
      ]
    },
    {
      "cell_type": "markdown",
      "metadata": {
        "id": "rN93XC6xgvwP"
      },
      "source": [
        "We're going to build our experience with working with Libraries and examining documentation by populating our 'People' table with data provided to us by the `Faker` library. `Faker` is used to generate fake data and is very helpful for the rapid generation of databases for the purposes of testing. Run the two blocks below to install faker and get an idea of what it can do."
      ]
    },
    {
      "cell_type": "code",
      "metadata": {
        "id": "CejUXkoRhPik",
        "outputId": "ac4dd73a-a550-4412-9cee-bf9b2356f0b7",
        "colab": {
          "base_uri": "https://localhost:8080/"
        }
      },
      "source": [
        "!pip install faker"
      ],
      "execution_count": 3,
      "outputs": [
        {
          "output_type": "stream",
          "name": "stdout",
          "text": [
            "Collecting faker\n",
            "  Downloading Faker-13.2.0-py3-none-any.whl (1.5 MB)\n",
            "\u001b[?25l\r\u001b[K     |▏                               | 10 kB 15.4 MB/s eta 0:00:01\r\u001b[K     |▍                               | 20 kB 20.7 MB/s eta 0:00:01\r\u001b[K     |▋                               | 30 kB 24.2 MB/s eta 0:00:01\r\u001b[K     |▉                               | 40 kB 20.8 MB/s eta 0:00:01\r\u001b[K     |█                               | 51 kB 15.9 MB/s eta 0:00:01\r\u001b[K     |█▎                              | 61 kB 17.5 MB/s eta 0:00:01\r\u001b[K     |█▌                              | 71 kB 18.2 MB/s eta 0:00:01\r\u001b[K     |█▊                              | 81 kB 18.4 MB/s eta 0:00:01\r\u001b[K     |██                              | 92 kB 20.0 MB/s eta 0:00:01\r\u001b[K     |██▏                             | 102 kB 17.9 MB/s eta 0:00:01\r\u001b[K     |██▍                             | 112 kB 17.9 MB/s eta 0:00:01\r\u001b[K     |██▋                             | 122 kB 17.9 MB/s eta 0:00:01\r\u001b[K     |██▉                             | 133 kB 17.9 MB/s eta 0:00:01\r\u001b[K     |███                             | 143 kB 17.9 MB/s eta 0:00:01\r\u001b[K     |███▎                            | 153 kB 17.9 MB/s eta 0:00:01\r\u001b[K     |███▌                            | 163 kB 17.9 MB/s eta 0:00:01\r\u001b[K     |███▊                            | 174 kB 17.9 MB/s eta 0:00:01\r\u001b[K     |████                            | 184 kB 17.9 MB/s eta 0:00:01\r\u001b[K     |████▏                           | 194 kB 17.9 MB/s eta 0:00:01\r\u001b[K     |████▍                           | 204 kB 17.9 MB/s eta 0:00:01\r\u001b[K     |████▋                           | 215 kB 17.9 MB/s eta 0:00:01\r\u001b[K     |████▉                           | 225 kB 17.9 MB/s eta 0:00:01\r\u001b[K     |█████                           | 235 kB 17.9 MB/s eta 0:00:01\r\u001b[K     |█████▎                          | 245 kB 17.9 MB/s eta 0:00:01\r\u001b[K     |█████▌                          | 256 kB 17.9 MB/s eta 0:00:01\r\u001b[K     |█████▊                          | 266 kB 17.9 MB/s eta 0:00:01\r\u001b[K     |██████                          | 276 kB 17.9 MB/s eta 0:00:01\r\u001b[K     |██████▏                         | 286 kB 17.9 MB/s eta 0:00:01\r\u001b[K     |██████▍                         | 296 kB 17.9 MB/s eta 0:00:01\r\u001b[K     |██████▋                         | 307 kB 17.9 MB/s eta 0:00:01\r\u001b[K     |██████▉                         | 317 kB 17.9 MB/s eta 0:00:01\r\u001b[K     |███████                         | 327 kB 17.9 MB/s eta 0:00:01\r\u001b[K     |███████▎                        | 337 kB 17.9 MB/s eta 0:00:01\r\u001b[K     |███████▌                        | 348 kB 17.9 MB/s eta 0:00:01\r\u001b[K     |███████▊                        | 358 kB 17.9 MB/s eta 0:00:01\r\u001b[K     |████████                        | 368 kB 17.9 MB/s eta 0:00:01\r\u001b[K     |████████▏                       | 378 kB 17.9 MB/s eta 0:00:01\r\u001b[K     |████████▍                       | 389 kB 17.9 MB/s eta 0:00:01\r\u001b[K     |████████▋                       | 399 kB 17.9 MB/s eta 0:00:01\r\u001b[K     |████████▉                       | 409 kB 17.9 MB/s eta 0:00:01\r\u001b[K     |█████████                       | 419 kB 17.9 MB/s eta 0:00:01\r\u001b[K     |█████████▎                      | 430 kB 17.9 MB/s eta 0:00:01\r\u001b[K     |█████████▌                      | 440 kB 17.9 MB/s eta 0:00:01\r\u001b[K     |█████████▊                      | 450 kB 17.9 MB/s eta 0:00:01\r\u001b[K     |██████████                      | 460 kB 17.9 MB/s eta 0:00:01\r\u001b[K     |██████████▏                     | 471 kB 17.9 MB/s eta 0:00:01\r\u001b[K     |██████████▍                     | 481 kB 17.9 MB/s eta 0:00:01\r\u001b[K     |██████████▋                     | 491 kB 17.9 MB/s eta 0:00:01\r\u001b[K     |██████████▉                     | 501 kB 17.9 MB/s eta 0:00:01\r\u001b[K     |███████████                     | 512 kB 17.9 MB/s eta 0:00:01\r\u001b[K     |███████████▏                    | 522 kB 17.9 MB/s eta 0:00:01\r\u001b[K     |███████████▍                    | 532 kB 17.9 MB/s eta 0:00:01\r\u001b[K     |███████████▋                    | 542 kB 17.9 MB/s eta 0:00:01\r\u001b[K     |███████████▉                    | 552 kB 17.9 MB/s eta 0:00:01\r\u001b[K     |████████████                    | 563 kB 17.9 MB/s eta 0:00:01\r\u001b[K     |████████████▎                   | 573 kB 17.9 MB/s eta 0:00:01\r\u001b[K     |████████████▌                   | 583 kB 17.9 MB/s eta 0:00:01\r\u001b[K     |████████████▊                   | 593 kB 17.9 MB/s eta 0:00:01\r\u001b[K     |█████████████                   | 604 kB 17.9 MB/s eta 0:00:01\r\u001b[K     |█████████████▏                  | 614 kB 17.9 MB/s eta 0:00:01\r\u001b[K     |█████████████▍                  | 624 kB 17.9 MB/s eta 0:00:01\r\u001b[K     |█████████████▋                  | 634 kB 17.9 MB/s eta 0:00:01\r\u001b[K     |█████████████▉                  | 645 kB 17.9 MB/s eta 0:00:01\r\u001b[K     |██████████████                  | 655 kB 17.9 MB/s eta 0:00:01\r\u001b[K     |██████████████▎                 | 665 kB 17.9 MB/s eta 0:00:01\r\u001b[K     |██████████████▌                 | 675 kB 17.9 MB/s eta 0:00:01\r\u001b[K     |██████████████▊                 | 686 kB 17.9 MB/s eta 0:00:01\r\u001b[K     |███████████████                 | 696 kB 17.9 MB/s eta 0:00:01\r\u001b[K     |███████████████▏                | 706 kB 17.9 MB/s eta 0:00:01\r\u001b[K     |███████████████▍                | 716 kB 17.9 MB/s eta 0:00:01\r\u001b[K     |███████████████▋                | 727 kB 17.9 MB/s eta 0:00:01\r\u001b[K     |███████████████▉                | 737 kB 17.9 MB/s eta 0:00:01\r\u001b[K     |████████████████                | 747 kB 17.9 MB/s eta 0:00:01\r\u001b[K     |████████████████▎               | 757 kB 17.9 MB/s eta 0:00:01\r\u001b[K     |████████████████▌               | 768 kB 17.9 MB/s eta 0:00:01\r\u001b[K     |████████████████▊               | 778 kB 17.9 MB/s eta 0:00:01\r\u001b[K     |█████████████████               | 788 kB 17.9 MB/s eta 0:00:01\r\u001b[K     |█████████████████▏              | 798 kB 17.9 MB/s eta 0:00:01\r\u001b[K     |█████████████████▍              | 808 kB 17.9 MB/s eta 0:00:01\r\u001b[K     |█████████████████▋              | 819 kB 17.9 MB/s eta 0:00:01\r\u001b[K     |█████████████████▉              | 829 kB 17.9 MB/s eta 0:00:01\r\u001b[K     |██████████████████              | 839 kB 17.9 MB/s eta 0:00:01\r\u001b[K     |██████████████████▎             | 849 kB 17.9 MB/s eta 0:00:01\r\u001b[K     |██████████████████▌             | 860 kB 17.9 MB/s eta 0:00:01\r\u001b[K     |██████████████████▊             | 870 kB 17.9 MB/s eta 0:00:01\r\u001b[K     |███████████████████             | 880 kB 17.9 MB/s eta 0:00:01\r\u001b[K     |███████████████████▏            | 890 kB 17.9 MB/s eta 0:00:01\r\u001b[K     |███████████████████▍            | 901 kB 17.9 MB/s eta 0:00:01\r\u001b[K     |███████████████████▋            | 911 kB 17.9 MB/s eta 0:00:01\r\u001b[K     |███████████████████▉            | 921 kB 17.9 MB/s eta 0:00:01\r\u001b[K     |████████████████████            | 931 kB 17.9 MB/s eta 0:00:01\r\u001b[K     |████████████████████▎           | 942 kB 17.9 MB/s eta 0:00:01\r\u001b[K     |████████████████████▌           | 952 kB 17.9 MB/s eta 0:00:01\r\u001b[K     |████████████████████▊           | 962 kB 17.9 MB/s eta 0:00:01\r\u001b[K     |█████████████████████           | 972 kB 17.9 MB/s eta 0:00:01\r\u001b[K     |█████████████████████▏          | 983 kB 17.9 MB/s eta 0:00:01\r\u001b[K     |█████████████████████▍          | 993 kB 17.9 MB/s eta 0:00:01\r\u001b[K     |█████████████████████▋          | 1.0 MB 17.9 MB/s eta 0:00:01\r\u001b[K     |█████████████████████▉          | 1.0 MB 17.9 MB/s eta 0:00:01\r\u001b[K     |██████████████████████          | 1.0 MB 17.9 MB/s eta 0:00:01\r\u001b[K     |██████████████████████▏         | 1.0 MB 17.9 MB/s eta 0:00:01\r\u001b[K     |██████████████████████▍         | 1.0 MB 17.9 MB/s eta 0:00:01\r\u001b[K     |██████████████████████▋         | 1.1 MB 17.9 MB/s eta 0:00:01\r\u001b[K     |██████████████████████▉         | 1.1 MB 17.9 MB/s eta 0:00:01\r\u001b[K     |███████████████████████         | 1.1 MB 17.9 MB/s eta 0:00:01\r\u001b[K     |███████████████████████▎        | 1.1 MB 17.9 MB/s eta 0:00:01\r\u001b[K     |███████████████████████▌        | 1.1 MB 17.9 MB/s eta 0:00:01\r\u001b[K     |███████████████████████▊        | 1.1 MB 17.9 MB/s eta 0:00:01\r\u001b[K     |████████████████████████        | 1.1 MB 17.9 MB/s eta 0:00:01\r\u001b[K     |████████████████████████▏       | 1.1 MB 17.9 MB/s eta 0:00:01\r\u001b[K     |████████████████████████▍       | 1.1 MB 17.9 MB/s eta 0:00:01\r\u001b[K     |████████████████████████▋       | 1.1 MB 17.9 MB/s eta 0:00:01\r\u001b[K     |████████████████████████▉       | 1.2 MB 17.9 MB/s eta 0:00:01\r\u001b[K     |█████████████████████████       | 1.2 MB 17.9 MB/s eta 0:00:01\r\u001b[K     |█████████████████████████▎      | 1.2 MB 17.9 MB/s eta 0:00:01\r\u001b[K     |█████████████████████████▌      | 1.2 MB 17.9 MB/s eta 0:00:01\r\u001b[K     |█████████████████████████▊      | 1.2 MB 17.9 MB/s eta 0:00:01\r\u001b[K     |██████████████████████████      | 1.2 MB 17.9 MB/s eta 0:00:01\r\u001b[K     |██████████████████████████▏     | 1.2 MB 17.9 MB/s eta 0:00:01\r\u001b[K     |██████████████████████████▍     | 1.2 MB 17.9 MB/s eta 0:00:01\r\u001b[K     |██████████████████████████▋     | 1.2 MB 17.9 MB/s eta 0:00:01\r\u001b[K     |██████████████████████████▉     | 1.2 MB 17.9 MB/s eta 0:00:01\r\u001b[K     |███████████████████████████     | 1.3 MB 17.9 MB/s eta 0:00:01\r\u001b[K     |███████████████████████████▎    | 1.3 MB 17.9 MB/s eta 0:00:01\r\u001b[K     |███████████████████████████▌    | 1.3 MB 17.9 MB/s eta 0:00:01\r\u001b[K     |███████████████████████████▊    | 1.3 MB 17.9 MB/s eta 0:00:01\r\u001b[K     |████████████████████████████    | 1.3 MB 17.9 MB/s eta 0:00:01\r\u001b[K     |████████████████████████████▏   | 1.3 MB 17.9 MB/s eta 0:00:01\r\u001b[K     |████████████████████████████▍   | 1.3 MB 17.9 MB/s eta 0:00:01\r\u001b[K     |████████████████████████████▋   | 1.3 MB 17.9 MB/s eta 0:00:01\r\u001b[K     |████████████████████████████▉   | 1.3 MB 17.9 MB/s eta 0:00:01\r\u001b[K     |█████████████████████████████   | 1.4 MB 17.9 MB/s eta 0:00:01\r\u001b[K     |█████████████████████████████▎  | 1.4 MB 17.9 MB/s eta 0:00:01\r\u001b[K     |█████████████████████████████▌  | 1.4 MB 17.9 MB/s eta 0:00:01\r\u001b[K     |█████████████████████████████▊  | 1.4 MB 17.9 MB/s eta 0:00:01\r\u001b[K     |██████████████████████████████  | 1.4 MB 17.9 MB/s eta 0:00:01\r\u001b[K     |██████████████████████████████▏ | 1.4 MB 17.9 MB/s eta 0:00:01\r\u001b[K     |██████████████████████████████▍ | 1.4 MB 17.9 MB/s eta 0:00:01\r\u001b[K     |██████████████████████████████▋ | 1.4 MB 17.9 MB/s eta 0:00:01\r\u001b[K     |██████████████████████████████▉ | 1.4 MB 17.9 MB/s eta 0:00:01\r\u001b[K     |███████████████████████████████ | 1.4 MB 17.9 MB/s eta 0:00:01\r\u001b[K     |███████████████████████████████▎| 1.5 MB 17.9 MB/s eta 0:00:01\r\u001b[K     |███████████████████████████████▌| 1.5 MB 17.9 MB/s eta 0:00:01\r\u001b[K     |███████████████████████████████▊| 1.5 MB 17.9 MB/s eta 0:00:01\r\u001b[K     |████████████████████████████████| 1.5 MB 17.9 MB/s eta 0:00:01\r\u001b[K     |████████████████████████████████| 1.5 MB 17.9 MB/s \n",
            "\u001b[?25hRequirement already satisfied: python-dateutil>=2.4 in /usr/local/lib/python3.7/dist-packages (from faker) (2.8.2)\n",
            "Requirement already satisfied: typing-extensions>=3.10.0.2 in /usr/local/lib/python3.7/dist-packages (from faker) (3.10.0.2)\n",
            "Requirement already satisfied: six>=1.5 in /usr/local/lib/python3.7/dist-packages (from python-dateutil>=2.4->faker) (1.15.0)\n",
            "Installing collected packages: faker\n",
            "Successfully installed faker-13.2.0\n"
          ]
        }
      ]
    },
    {
      "cell_type": "code",
      "metadata": {
        "id": "vO2Uhcwrhw8-"
      },
      "source": [
        "from faker import Faker\n",
        "\n",
        "fake = Faker()\n",
        "\n",
        "for _ in range(10):\n",
        "  print('{} || {} || {}'.format( fake.name(), fake.job() ) )"
      ],
      "execution_count": null,
      "outputs": []
    },
    {
      "cell_type": "markdown",
      "metadata": {
        "id": "IsYIsSvRjmiG"
      },
      "source": [
        "Very cool! Faker has tons of `providers` that can all be used to populate fake data. The [list of providers](https://faker.readthedocs.io/en/stable/providers.html) in the Faker documentation will help you fill out the columns for our People table.\n",
        "\n",
        "The goal of this script is to populate the people table with 1000 entries, with the following constraints:\n",
        "\n",
        "1. The `heatmap` column must contain a random number between `999` and `2500`\n",
        "2. The `created_at` and `updated_at` columns must use the `datetime` object (see examples above) \n",
        "2. Use `Faker` to generate all other fields.\n",
        "\n",
        "*Hint: Each of the methods contained in the provider can be called directly from the base Faker object, for example, one can call the `file_name()` method from `faker.providers.file` by calling `Faker().file_name()`*"
      ]
    },
    {
      "cell_type": "code",
      "metadata": {
        "id": "Yi-fE0uUlor4"
      },
      "source": [
        "import sqlite3\n",
        "from random import randint\n",
        "from pprint import pprint\n",
        "from faker import Faker\n",
        "from datetime import datetime \n",
        "\n",
        "#Retreive the Connection object\n",
        "myConnection = sqlite3.connect('social_network.db')\n",
        "\n",
        "#Once we have a Connection object, we can generate a Cursor object, and use that to run our SQL Queries\n",
        "myCursor = myConnection.cursor()\n",
        "\n",
        "#This is the same syntax as the above example:\n",
        "addPersonQuery = \"\"\"INSERT INTO people (name, \n",
        "                      email, \n",
        "                      address, \n",
        "                      city, \n",
        "                      province, \n",
        "                      country, \n",
        "                      phone, \n",
        "                      bio,\n",
        "                      dob,\n",
        "                      heatmap,\n",
        "                      created_at, \n",
        "                      updated_at, \n",
        "                      ipv4)\n",
        "                  VALUES (?, ?, ?, ?, ?, ?, ?, ?, ?, ?, ?, ?, ?);\"\"\"\n",
        "\n",
        "fake = Faker()\n",
        "\n",
        "for _ in range(1000):\n",
        "  myPerson = (fake.name(), \n",
        "             fake.ascii_safe_email(), \n",
        "            fake.street_address(), \n",
        "            fake.city(), \n",
        "             fake.country_code(), \n",
        "             fake.country(), \n",
        "            fake.phone_number(), \n",
        "            fake.sentence(nb_words=5),\n",
        "            fake.date_of_birth(),\n",
        "            fake.random_int(min=999, max=2500) ,\n",
        "            datetime.now(), \n",
        "            datetime.now(),\n",
        "            fake.ipv4())\n",
        "\n",
        "\n",
        "  myCursor.execute(addPersonQuery, myPerson)\n",
        "\n",
        "\n",
        "\n",
        "myConnection.commit()\n",
        "myConnection.close()"
      ],
      "execution_count": 7,
      "outputs": []
    },
    {
      "cell_type": "markdown",
      "metadata": {
        "id": "mVEgfYArnITl"
      },
      "source": [
        "Finally, the last step,\n",
        "Using the code block below, combined with what you have learned above, and the Lecture notes,\n",
        "Craft a SQL Query that will return the `name` of no more than `20` `people` with a `heatmap` greater than `1500`"
      ]
    },
    {
      "cell_type": "code",
      "metadata": {
        "id": "oN6wSS9roOP6",
        "outputId": "a7b06d99-b586-47c9-a8e9-47f5b4aa6358",
        "colab": {
          "base_uri": "https://localhost:8080/"
        }
      },
      "source": [
        "import sqlite3\n",
        "from pprint import pprint\n",
        "#Retreive the Connection object\n",
        "myConnection = sqlite3.connect('social_network.db')\n",
        "\n",
        "#Once we have a Connection object, we can generate a Cursor object, and use that to run our SQL Queries\n",
        "myCursor = myConnection.cursor()\n",
        "\n",
        "selectStatement = \"\"\"SELECT  name FROM people WHERE heatmap > 1500 LIMIT 20 \"\"\"\n",
        "\n",
        "myCursor.execute( selectStatement)\n",
        "results = myCursor.fetchall()\n",
        "pprint(results)"
      ],
      "execution_count": 8,
      "outputs": [
        {
          "output_type": "stream",
          "name": "stdout",
          "text": [
            "[('Jeffrey Fernandez',),\n",
            " ('Andrew Shaffer',),\n",
            " ('Adam Higgins',),\n",
            " ('Melissa Mcfarland',),\n",
            " ('Ethan Davis',),\n",
            " ('Krista Price',),\n",
            " ('Frank Smith',),\n",
            " ('Joshua Rios',),\n",
            " ('Matthew Graham',),\n",
            " ('Carlos Hansen',),\n",
            " ('Glen Foster',),\n",
            " ('Sandra Pearson',),\n",
            " ('Daniel Clark',),\n",
            " ('Timothy Simmons',),\n",
            " ('Jennifer Mcgrath',),\n",
            " ('Kelly Jackson',),\n",
            " ('Brian Hunt',),\n",
            " ('Gerald Rush',),\n",
            " ('Keith Goodman',),\n",
            " ('Natalie Rivera MD',)]\n"
          ]
        }
      ]
    },
    {
      "cell_type": "markdown",
      "metadata": {
        "id": "qwNrP7FfpJg2"
      },
      "source": [
        "Your submission will contain, as usual, a link to your completed colab notebook, but in addition to that, you will download a copy of your social_network.db file and upload it to D2L. To download the file, right click it from the Files menu on the left of the Notebook."
      ]
    }
  ]
}