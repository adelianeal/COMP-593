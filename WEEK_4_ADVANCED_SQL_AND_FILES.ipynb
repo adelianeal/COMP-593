{
  "nbformat": 4,
  "nbformat_minor": 0,
  "metadata": {
    "colab": {
      "name": "WEEK 4 ADVANCED SQL AND FILES",
      "provenance": [],
      "include_colab_link": true
    },
    "kernelspec": {
      "name": "python3",
      "display_name": "Python 3"
    }
  },
  "cells": [
    {
      "cell_type": "markdown",
      "metadata": {
        "id": "view-in-github",
        "colab_type": "text"
      },
      "source": [
        "<a href=\"https://colab.research.google.com/github/adelianeal/COMP-593/blob/main/WEEK_4_ADVANCED_SQL_AND_FILES.ipynb\" target=\"_parent\"><img src=\"https://colab.research.google.com/assets/colab-badge.svg\" alt=\"Open In Colab\"/></a>"
      ]
    },
    {
      "cell_type": "markdown",
      "metadata": {
        "id": "jtmWSsdu7sGV"
      },
      "source": [
        "# Lab 4 - Advanced SQL / Writing Files\n",
        "\n",
        "In this week's lab, we are going to expand our Really Simple Social Network by adding another table that will record connections between people! Because after all, what good is a social network if you can't ... be social?\n",
        "\n",
        "Afterwards, we will be in a good position to run a report on the data, and then we can sell it to marketers for a massive profit! Isn't it great how few people read the terms of service? `/s`"
      ]
    },
    {
      "cell_type": "markdown",
      "metadata": {
        "id": "u_jgOruj82au"
      },
      "source": [
        "## Importing our database\n",
        "Since we are using a new colab notebook, we will need to reimport our database. Check your D2L Submission if you didn't keep a copy, you should be able to redownload it there. Run the below code block and the file upload picker will appear, after uploading your Database file, check that it appears in the `Files` tab of colab.\n",
        "\n",
        "Remember that you may need to update the listings before it will appear."
      ]
    },
    {
      "cell_type": "code",
      "metadata": {
        "id": "8IIOmhjf7GoX"
      },
      "source": [
        "from google.colab import files\n",
        "uploaded = files.upload()\n"
      ],
      "execution_count": null,
      "outputs": []
    },
    {
      "cell_type": "markdown",
      "metadata": {
        "id": "Niw3IKvx-034"
      },
      "source": [
        "## Creating our relationship table\n",
        "\n",
        "In the code block below, we will be creating a new table in our database for `relationships` with the following parameters:\n",
        "\n",
        "\n",
        "1.   A primary key column called `id` with the `INTEGER` datatype that is `NOT NULL`\n",
        "2.   A foreign key column called `user_id` that links to the `id` column of the `people` table with the `INTEGER` datatype that is `NOT NULL`\n",
        "3.   Another foreign key column called `friend_id` that also links to the `id` column of the `people` table with the `INTEGER` datatype that is `NOT NULL`\n",
        "4.   A `date_created` table with the `DATE` datatype that is `NOT NULL`\n",
        "\n",
        "The Below codeblock will get you started:\n",
        "\n"
      ]
    },
    {
      "cell_type": "code",
      "metadata": {
        "id": "P2btKpXsANBX"
      },
      "source": [
        "import sqlite3\n",
        "\n",
        "#Retreive the Connection object, rename the file to match your uploaded DB if necessary.\n",
        "myConnection = sqlite3.connect('social_network.db')\n",
        "\n",
        "#Once we have a Connection object, we can generate a Cursor object, and use that to run our SQL Queries\n",
        "myCursor = myConnection.cursor()\n",
        "\n",
        "#The Primary Key column has been provided for you,\n",
        "#Replace '#!...' with the remaining column names, datatypes, and foreign key declarations.\n",
        "#Use the Lecture notes and the previous lab if you are unsure.\n",
        "createRelationshipsTable = \"\"\"CREATE TABLE IF NOT EXISTS relationships (\n",
        "                          id integer PRIMARY KEY NOT NULL,\n",
        "                          user_id integer NOT NULL,\n",
        "                          friend_id integer NOT NULL,\n",
        "                          FOREIGN KEY (user_id) REFERENCES people (id),\n",
        "                          FOREIGN KEY (friend_id) REFERENCES people (id)\n",
        "                        );\"\"\"\n",
        "\n",
        "#Once again, we will execute the query, persist the changes, and close our connection.\n",
        "myCursor.execute(createRelationshipsTable)\n",
        "myConnection.commit()\n",
        "myConnection.close()"
      ],
      "execution_count": 4,
      "outputs": []
    },
    {
      "cell_type": "code",
      "source": [
        "myConnection = sqlite3.connect('social_network.db')\n",
        "myCursor = myConnection.cursor()\n",
        "\n",
        "myCursor.execute(\"SELECT group_concat(name, ', ') FROM pragma_table_info('relationships')\")\n",
        "print(myCursor.fetchone())\n",
        "\n",
        "myConnection.close()"
      ],
      "metadata": {
        "id": "JxLhCpyBolDt",
        "outputId": "6ae19792-0052-4cf8-c069-01d42120156d",
        "colab": {
          "base_uri": "https://localhost:8080/"
        }
      },
      "execution_count": 6,
      "outputs": [
        {
          "output_type": "stream",
          "name": "stdout",
          "text": [
            "('id, user_id, friend_id',)\n"
          ]
        }
      ]
    },
    {
      "cell_type": "markdown",
      "metadata": {
        "id": "AQ4tDbnaBPpD"
      },
      "source": [
        "## Populating Relationship Data\n",
        "\n",
        "We're not going to be picky about who knows who - so for the purposes of this lab, we're going to use our own version of an AI matchmaker, the `randrange()` method.\n",
        "\n",
        "Complete the below codeblock, inserting 1000 new rows into the relationships table.\n",
        "Use a random number between `1 - 1000` for the `user_id` and `friend_id` columns. This will link up to the `id` column of the `people` table and effectivly simulate a random network of relationships.\n",
        "\n",
        "The below code block is purposely sparse, as you should be able to use the patterns you've identified in the previous lab to complete this task."
      ]
    },
    {
      "cell_type": "code",
      "metadata": {
        "id": "XL7ho2tJCTBG"
      },
      "source": [
        "import sqlite3\n",
        "from datetime import datetime #For generating dates and times\n",
        "from random import randrange #For generating random numbers within a range\n",
        "\n",
        "\n",
        "myConnection = sqlite3.connect('social_network.db')\n",
        "myCursor = myConnection.cursor()\n",
        "\n",
        "#Complete the below query\n",
        "query = \"\"\"INSERT INTO relationships (user_id,  friend_id)\n",
        "                     VALUES (?, ?);\"\"\"\n",
        "\n",
        "\n",
        "\n",
        "for _ in range(1000):\n",
        "  #Populate the arguments that will be used in the query\n",
        "  args = (randrange(1, 1001), randrange(1, 1001))\n",
        "  #Execute the query\n",
        "  myCursor.execute(query, args)\n",
        "\n",
        "#Commit your changes and close the connection.\n",
        "myConnection.commit()\n",
        "myConnection.close()\n"
      ],
      "execution_count": 7,
      "outputs": []
    },
    {
      "cell_type": "code",
      "source": [
        "import sqlite3\n",
        "from pprint import pprint\n",
        "\n",
        "myConnection = sqlite3.connect('social_network.db')\n",
        "myCursor = myConnection.cursor()\n",
        "\n",
        "selectStatement = \"\"\"SELECT  * FROM relationships  LIMIT 20; \"\"\"\n",
        "\n",
        "myCursor.execute( selectStatement)\n",
        "results = myCursor.fetchall()\n",
        "pprint(results)"
      ],
      "metadata": {
        "id": "CuJqELJDxOeZ",
        "outputId": "0954a1f3-6156-48a1-ad2e-bb2315de0802",
        "colab": {
          "base_uri": "https://localhost:8080/"
        }
      },
      "execution_count": 8,
      "outputs": [
        {
          "output_type": "stream",
          "name": "stdout",
          "text": [
            "[(1, 613, 386),\n",
            " (2, 306, 697),\n",
            " (3, 960, 784),\n",
            " (4, 4, 803),\n",
            " (5, 656, 405),\n",
            " (6, 202, 971),\n",
            " (7, 712, 387),\n",
            " (8, 730, 948),\n",
            " (9, 310, 673),\n",
            " (10, 135, 662),\n",
            " (11, 655, 33),\n",
            " (12, 898, 975),\n",
            " (13, 9, 896),\n",
            " (14, 623, 289),\n",
            " (15, 149, 15),\n",
            " (16, 855, 573),\n",
            " (17, 716, 797),\n",
            " (18, 2, 538),\n",
            " (19, 358, 107),\n",
            " (20, 147, 915)]\n"
          ]
        }
      ]
    },
    {
      "cell_type": "markdown",
      "metadata": {
        "id": "qqZLm-E0E2AV"
      },
      "source": [
        "## Building our Report\n",
        "\n",
        "Now that our AI Matchmaker has generated our network of relationships, a marketing firm is offering us boatloads of cash for information about the amount of friends the users of our social network have.\n",
        "\n",
        "The request is to return the name of each user, and the total number of relationships they have made.\n",
        "\n",
        "If this was explained in awkward pseudo code, it might go something like this:\n",
        "```\n",
        "SELECT all relationships\n",
        "JOIN them to the people they belong to\n",
        "GROUP the results by the person's ID\n",
        "return the person's name and COUNT of their relationships\n",
        "```\n",
        "\n",
        "After you have collected the data, you will need to write it to a `.txt` file. \n",
        "\n",
        "**Your submission will include the report `.txt` file, the copy of your updated `social_network.db` file, and a link to the colab notebook.**\n",
        "\n",
        "Look at the aggregate functions from Week 3 and the Join examples from Week 4. There are a few different ways that you can structure a query to reach the correct answer.\n",
        "\n",
        "**At a minimum, you will need to use a `LEFT JOIN` statement, a `GROUP BY` statement, and a `COUNT()` aggregate function.**\n",
        "\n",
        "The below code block will get you started:"
      ]
    },
    {
      "cell_type": "code",
      "metadata": {
        "id": "0OvhhCMKGkU3"
      },
      "source": [
        "import sqlite3\n",
        "from pprint import pprint\n",
        "\n",
        "myConnection = sqlite3.connect('social_network.db')\n",
        "myCursor = myConnection.cursor()\n",
        "\n",
        "query =  \"\"\"SELECT people.name, COUNT(relationships.friend_id) FROM relationships\n",
        "                      LEFT JOIN people ON relationships.user_id = people.id\n",
        "                      GROUP BY relationships.user_id;\"\"\"\n",
        "\n",
        "myCursor.execute(query)\n",
        "results = myCursor.fetchall()\n",
        "myConnection.close()\n",
        "\n",
        "fp = open('report.txt', 'w')\n",
        "\n",
        "for result in results:\n",
        "  fp.write('\\n' + str(result))\n",
        "\n",
        "fp.close()"
      ],
      "execution_count": null,
      "outputs": []
    },
    {
      "cell_type": "markdown",
      "metadata": {
        "id": "uhxqLV4TNnjA"
      },
      "source": [
        "### Challenge: Write a CSV file\n",
        "\n",
        "**This challenge isn't for extra marks, it's an opportunity for you to engage in some self guided discovery, only if you feel like it, and only if you have time.**\n",
        "\n",
        "If you want to challenge yourself, alter the report so that it conforms with the `.csv` file type. There are a number of ways to do this, you can use the `Pandas` module, the `csv` module, or manually."
      ]
    }
  ]
}